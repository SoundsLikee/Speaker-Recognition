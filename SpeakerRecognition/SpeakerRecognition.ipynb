{
  "cells": [
    {
      "cell_type": "markdown",
      "metadata": {
        "id": "OzM1I27NYXiO"
      },
      "source": [
        "1. 먼저 환경에서 \"pip install speechbrain\"를 수행한다.\n",
        "\n",
        "2. python SpeakerRecognition.py ['입력 음성파일 경로']  ['test용 음성파일의 폴더 경로']\n",
        "\n",
        "    폴더에서 음성파일을 있어야 한다\n",
        "\n",
        "```\n",
        "python SpeakerRecognition.py '/content/sample_data/input/input1.wav' '/content/sample_data/test/'\n",
        "```\n",
        "3. 결과는 SpeakerRecognition.py 과 동일하는 폴더에서 result.txt파일에 있다.\n",
        "\n",
        "    내용은 다음과 같다\n",
        "\n",
        "```\n",
        "True #입력한 음성과 저장된 음성이 같은 사람인지\n",
        "test1 # 같으면 같은 사람의 이름 (test폴더 에서 저장한 파일과 동일 )\n",
        "tensor(0.6251)# 정확도\n",
        "```"
      ]
    },
    {
      "cell_type": "code",
      "execution_count": 21,
      "metadata": {
        "id": "s3c3CAXtYSR9"
      },
      "outputs": [
        {
          "name": "stdout",
          "output_type": "stream",
          "text": [
            "Requirement already satisfied: speechbrain in /Users/ysng_ysng/opt/anaconda3/envs/soundslike/lib/python3.9/site-packages (0.5.13)\n",
            "Requirement already satisfied: hyperpyyaml in /Users/ysng_ysng/opt/anaconda3/envs/soundslike/lib/python3.9/site-packages (from speechbrain) (1.1.0)\n",
            "Requirement already satisfied: torchaudio in /Users/ysng_ysng/opt/anaconda3/envs/soundslike/lib/python3.9/site-packages (from speechbrain) (0.14.0.dev20221209)\n",
            "Requirement already satisfied: tqdm in /Users/ysng_ysng/opt/anaconda3/envs/soundslike/lib/python3.9/site-packages (from speechbrain) (4.64.1)\n",
            "Requirement already satisfied: torch>=1.9 in /Users/ysng_ysng/opt/anaconda3/envs/soundslike/lib/python3.9/site-packages (from speechbrain) (2.0.0.dev20221209)\n",
            "Requirement already satisfied: sentencepiece in /Users/ysng_ysng/opt/anaconda3/envs/soundslike/lib/python3.9/site-packages (from speechbrain) (0.1.97)\n",
            "Requirement already satisfied: packaging in /Users/ysng_ysng/opt/anaconda3/envs/soundslike/lib/python3.9/site-packages (from speechbrain) (22.0)\n",
            "Requirement already satisfied: scipy in /Users/ysng_ysng/opt/anaconda3/envs/soundslike/lib/python3.9/site-packages (from speechbrain) (1.9.3)\n",
            "Requirement already satisfied: joblib in /Users/ysng_ysng/opt/anaconda3/envs/soundslike/lib/python3.9/site-packages (from speechbrain) (1.2.0)\n",
            "Requirement already satisfied: huggingface-hub in /Users/ysng_ysng/opt/anaconda3/envs/soundslike/lib/python3.9/site-packages (from speechbrain) (0.11.1)\n",
            "Requirement already satisfied: numpy in /Users/ysng_ysng/opt/anaconda3/envs/soundslike/lib/python3.9/site-packages (from speechbrain) (1.23.4)\n",
            "Requirement already satisfied: typing_extensions in /Users/ysng_ysng/opt/anaconda3/envs/soundslike/lib/python3.9/site-packages (from torch>=1.9->speechbrain) (4.4.0)\n",
            "Requirement already satisfied: sympy in /Users/ysng_ysng/opt/anaconda3/envs/soundslike/lib/python3.9/site-packages (from torch>=1.9->speechbrain) (1.11.1)\n",
            "Requirement already satisfied: networkx in /Users/ysng_ysng/opt/anaconda3/envs/soundslike/lib/python3.9/site-packages (from torch>=1.9->speechbrain) (2.8.8)\n",
            "Requirement already satisfied: pyyaml>=5.1 in /Users/ysng_ysng/opt/anaconda3/envs/soundslike/lib/python3.9/site-packages (from huggingface-hub->speechbrain) (6.0)\n",
            "Requirement already satisfied: filelock in /Users/ysng_ysng/opt/anaconda3/envs/soundslike/lib/python3.9/site-packages (from huggingface-hub->speechbrain) (3.8.2)\n",
            "Requirement already satisfied: requests in /Users/ysng_ysng/opt/anaconda3/envs/soundslike/lib/python3.9/site-packages (from huggingface-hub->speechbrain) (2.28.1)\n",
            "Requirement already satisfied: ruamel.yaml>=0.17.8 in /Users/ysng_ysng/opt/anaconda3/envs/soundslike/lib/python3.9/site-packages (from hyperpyyaml->speechbrain) (0.17.21)\n",
            "Requirement already satisfied: ruamel.yaml.clib>=0.2.6 in /Users/ysng_ysng/opt/anaconda3/envs/soundslike/lib/python3.9/site-packages (from ruamel.yaml>=0.17.8->hyperpyyaml->speechbrain) (0.2.7)\n",
            "Requirement already satisfied: idna<4,>=2.5 in /Users/ysng_ysng/opt/anaconda3/envs/soundslike/lib/python3.9/site-packages (from requests->huggingface-hub->speechbrain) (3.4)\n",
            "Requirement already satisfied: charset-normalizer<3,>=2 in /Users/ysng_ysng/opt/anaconda3/envs/soundslike/lib/python3.9/site-packages (from requests->huggingface-hub->speechbrain) (2.1.1)\n",
            "Requirement already satisfied: urllib3<1.27,>=1.21.1 in /Users/ysng_ysng/opt/anaconda3/envs/soundslike/lib/python3.9/site-packages (from requests->huggingface-hub->speechbrain) (1.26.13)\n",
            "Requirement already satisfied: certifi>=2017.4.17 in /Users/ysng_ysng/opt/anaconda3/envs/soundslike/lib/python3.9/site-packages (from requests->huggingface-hub->speechbrain) (2022.9.24)\n",
            "Requirement already satisfied: mpmath>=0.19 in /Users/ysng_ysng/opt/anaconda3/envs/soundslike/lib/python3.9/site-packages (from sympy->torch>=1.9->speechbrain) (1.2.1)\n",
            "Requirement already satisfied: openpyxl in /Users/ysng_ysng/opt/anaconda3/envs/soundslike/lib/python3.9/site-packages (3.0.10)\n",
            "Requirement already satisfied: et-xmlfile in /Users/ysng_ysng/opt/anaconda3/envs/soundslike/lib/python3.9/site-packages (from openpyxl) (1.1.0)\n"
          ]
        }
      ],
      "source": [
        "!pip install speechbrain\n",
        "!pip install openpyxl"
      ]
    },
    {
      "cell_type": "code",
      "execution_count": 2,
      "metadata": {
        "id": "-w_lxQH-YatQ"
      },
      "outputs": [
        {
          "name": "stdout",
          "output_type": "stream",
          "text": [
            "./data/user_data/.DS_Store\n",
            "./data/user_data/test1.wav\n",
            "Traceback (most recent call last):\n",
            "  File \"/Users/ysng_ysng/Desktop/SoundsLike/SpeakerRecognition/SpeakerRecognition.py\", line 27, in <module>\n",
            "    score, prediction = verification.verify_files(file1, file2)\n",
            "  File \"/Users/ysng_ysng/opt/anaconda3/envs/soundslike/lib/python3.9/site-packages/speechbrain/pretrained/interfaces.py\", line 996, in verify_files\n",
            "    waveform_x = self.load_audio(path_x)\n",
            "  File \"/Users/ysng_ysng/opt/anaconda3/envs/soundslike/lib/python3.9/site-packages/speechbrain/pretrained/interfaces.py\", line 239, in load_audio\n",
            "    path = fetch(fl, source=source, savedir=savedir)\n",
            "  File \"/Users/ysng_ysng/opt/anaconda3/envs/soundslike/lib/python3.9/site-packages/speechbrain/pretrained/fetching.py\", line 120, in fetch\n",
            "    fetched_file = huggingface_hub.hf_hub_download(\n",
            "  File \"/Users/ysng_ysng/opt/anaconda3/envs/soundslike/lib/python3.9/site-packages/huggingface_hub/utils/_validators.py\", line 114, in _inner_fn\n",
            "    validate_repo_id(arg_value)\n",
            "  File \"/Users/ysng_ysng/opt/anaconda3/envs/soundslike/lib/python3.9/site-packages/huggingface_hub/utils/_validators.py\", line 166, in validate_repo_id\n",
            "    raise HFValidationError(\n",
            "huggingface_hub.utils._validators.HFValidationError: Repo id must be in the form 'repo_name' or 'namespace/repo_name': './data/damin_data'. Use `repo_type` argument if needed.\n"
          ]
        }
      ],
      "source": [
        "!python SpeakerRecognition.py './data/admin_data/input1.wav' './data/user_data/'"
      ]
    }
  ],
  "metadata": {
    "colab": {
      "provenance": []
    },
    "kernelspec": {
      "display_name": "soundslike",
      "language": "python",
      "name": "python3"
    },
    "language_info": {
      "codemirror_mode": {
        "name": "ipython",
        "version": 3
      },
      "file_extension": ".py",
      "mimetype": "text/x-python",
      "name": "python",
      "nbconvert_exporter": "python",
      "pygments_lexer": "ipython3",
      "version": "3.9.15"
    },
    "vscode": {
      "interpreter": {
        "hash": "096b3edd790018105616d362086f2330c7b6b93fa248ec5429c3fd6176a35854"
      }
    }
  },
  "nbformat": 4,
  "nbformat_minor": 0
}
